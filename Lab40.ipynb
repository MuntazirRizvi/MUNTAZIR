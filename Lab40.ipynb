{
 "cells": [
  {
   "cell_type": "code",
   "execution_count": 1,
   "id": "4f6e0339-71e2-43f5-98c1-d6bccbc89acf",
   "metadata": {},
   "outputs": [],
   "source": [
    "import warnings"
   ]
  },
  {
   "cell_type": "markdown",
   "id": "5bd85892-08dc-4ba6-ac67-d5a174bc98b6",
   "metadata": {},
   "source": [
    "1. import warnings: \n",
    "\n",
    "- This line imports Python’s warnings module. \n",
    "- The warnings module helps manage warning messages that may appear during code execution.\n",
    "- Instead of stopping the program, warnings notify users of potential issues.\n",
    "- This can include deprecated features, resource usage, or minor errors.\n",
    "- It’s useful for debugging or improving code without interrupting execution."
   ]
  },
  {
   "cell_type": "code",
   "execution_count": 2,
   "id": "68835050-c56d-4790-93a2-338147f0c2b4",
   "metadata": {},
   "outputs": [],
   "source": [
    "import os"
   ]
  },
  {
   "cell_type": "code",
   "execution_count": null,
   "id": "166e47e8-2880-4e54-b957-8630f88ce3f8",
   "metadata": {},
   "outputs": [],
   "source": [
    "import os:\n",
    "This line imports Python’s built-in os module.\n",
    "The os module provides functions for interacting with the operating system.\n",
    "It allows us to handle files, directories, and system paths.\n",
    "Using os, we can read or write files, create directories, and navigate file structures.\n",
    "It’s essential for tasks that need to interact with the system’s file structure."
   ]
  },
  {
   "cell_type": "code",
   "execution_count": 3,
   "id": "3447313c-6bbf-4543-a411-e833e729775a",
   "metadata": {},
   "outputs": [],
   "source": [
    "import pandas as pd "
   ]
  },
  {
   "cell_type": "code",
   "execution_count": null,
   "id": "6d6267e5-39f5-4b23-9e1e-0ddcaaf344a9",
   "metadata": {},
   "outputs": [],
   "source": [
    "3. import pandas as pd:\n",
    "\n",
    "- This line imports the pandas library and gives it the alias pd.\n",
    "- pandas is a powerful library for data manipulation and analysis.\n",
    "- It allows handling of structured data using DataFrames and Series objects.\n",
    "- With pd, you can read, write, filter, and analyze data easily.\n"
   ]
  },
  {
   "cell_type": "raw",
   "id": "d5f09e07-bde4-4693-b9a8-367de33d59bf",
   "metadata": {},
   "source": [
    "import numpy as np"
   ]
  },
  {
   "cell_type": "code",
   "execution_count": null,
   "id": "b832b1b5-59b4-4a8a-997b-7bdf4ad4d216",
   "metadata": {},
   "outputs": [],
   "source": [
    "4. import numpy as np:\n",
    "\n",
    "- This line imports the numpy library and gives it the alias np.\n",
    "- numpy is essential for numerical computations in Python.\n",
    "- It provides tools for working with arrays, matrices, and mathematical functions.\n",
    "- np enables efficient handling of large datasets and complex operations.\n",
    "- The shorthand (np) makes code more concise and widely recognized in data science."
   ]
  },
  {
   "cell_type": "code",
   "execution_count": 4,
   "id": "747569bf-0147-42e1-b1c5-b0a2cbb6c1b2",
   "metadata": {},
   "outputs": [],
   "source": [
    " import matplotlib.pyplot as plt\n",
    " %matplotlib inline"
   ]
  },
  {
   "cell_type": "markdown",
   "id": "57f6295d-ea0a-4dc7-b9bf-4a8b863b04dd",
   "metadata": {},
   "source": [
    "- The first line imports matplotlib.pyplot with the alias plt.\n",
    "- matplotlib.pyplot is a plotting library for creating graphs and visualizations.\n",
    "- plt provides functions for line plots, bar charts, histograms, etc.\n",
    "- The %matplotlib inline command is a Jupyter Notebook-specific “magic” command.\n",
    "- It ensures that plots display directly within the notebook for easy viewing."
   ]
  },
  {
   "cell_type": "code",
   "execution_count": 5,
   "id": "b2f67559-83b2-46f0-90af-03ea04607cbe",
   "metadata": {},
   "outputs": [],
   "source": [
    " from matplotlib import pyplot"
   ]
  },
  {
   "cell_type": "markdown",
   "id": "2a1399a8-20f1-48ce-86b2-c0ab07b1315a",
   "metadata": {},
   "source": [
    "7. from matplotlib import pyplot\n",
    "\n",
    "- This line imports the pyplot module directly from matplotlib.\n",
    "- pyplot provides functions for creating a variety of plots and visualizations.\n",
    "- It works similarly to matplotlib.pyplot but allows direct usage without the plt alias.\n",
    "- Each function in pyplot corresponds to a different type of plot component (e.g., plot(), show()).\n",
    "- This import style is less common but can be useful if plt aliasing isn’t needed."
   ]
  },
  {
   "cell_type": "code",
   "execution_count": 8,
   "id": "3b838b09-b76d-4cd6-909a-a4adec2ca8d1",
   "metadata": {},
   "outputs": [],
   "source": [
    "import seaborn as sns"
   ]
  },
  {
   "cell_type": "markdown",
   "id": "ea4db216-264a-44b4-9d2b-2db3e1d11a92",
   "metadata": {},
   "source": [
    "8. import seaborn as sns\n",
    "\n",
    "- This line imports the seaborn library with the alias sns.\n",
    "- seaborn is a data visualization library based on matplotlib.\n",
    "- It provides a high-level interface for creating attractive, informative statistical graphics.\n",
    "- sns offers functions for complex visualizations like heatmaps, .\n",
    "- The alias (sns) is standard and makes code involving seaborn more concise and readable."
   ]
  },
  {
   "cell_type": "code",
   "execution_count": 9,
   "id": "06a63556-6382-4138-8275-8e614c6b6446",
   "metadata": {},
   "outputs": [],
   "source": [
    "import tensorflow"
   ]
  },
  {
   "cell_type": "code",
   "execution_count": null,
   "id": "45372a60-e798-446d-abb7-050d0b7de4b6",
   "metadata": {},
   "outputs": [],
   "source": [
    "9. import tensorflow\n",
    "\n",
    "- This line imports the tensorflow library, an open-source framework for machine learning and deep learning.\n",
    "- tensorflow provides tools for building and training neural networks, including deep CNNs, RNNs, and more.\n",
    "- It supports both low-level operations (like tensors) and high-level APIs (like Keras) for model building.\n",
    "- The library is widely used for tasks like image recognition, natural language processing, and predictive analytics.\n",
    "- tensorflow enables deployment on various platforms, including mobile, servers, and cloud environments."
   ]
  },
  {
   "cell_type": "code",
   "execution_count": 10,
   "id": "a844816b-3a81-435c-b03f-ae75592b3673",
   "metadata": {},
   "outputs": [
    {
     "name": "stdout",
     "output_type": "stream",
     "text": [
      "2.17.0\n"
     ]
    }
   ],
   "source": [
    "print(tensorflow.__version__)"
   ]
  },
  {
   "cell_type": "markdown",
   "id": "1ff93dfb-a764-4100-bdf4-7d3a0cbff82a",
   "metadata": {},
   "source": [
    "print the version of tensorflow"
   ]
  },
  {
   "cell_type": "code",
   "execution_count": 11,
   "id": "309d08cc-226c-4287-9d99-4d51e21d6ac7",
   "metadata": {},
   "outputs": [],
   "source": [
    " warnings.filterwarnings('ignore')"
   ]
  },
  {
   "cell_type": "markdown",
   "id": "9cf117b1-41c2-486d-8747-4d66c5d25746",
   "metadata": {},
   "source": [
    "10. warnings.filterwarnings('ignore'):\n",
    "\n",
    "- This line configures the warnings module to suppress all warning messages.\n",
    "- By setting this filter to 'ignore', the program will not display warnings during execution.\n",
    "- This can be useful for cleaner output, especially when running code where warnings are expected.\n",
    "- However, ignoring warnings can lead to missing important alerts about potential issues.\n",
    "- It's often used in exploratory data analysis or during development to reduce clutter in the console."
   ]
  },
  {
   "cell_type": "code",
   "execution_count": 12,
   "id": "c88b0306-6a45-4107-8055-cf70ae6a3e6d",
   "metadata": {},
   "outputs": [],
   "source": [
    "pd.options.display.max_columns=None"
   ]
  },
  {
   "cell_type": "code",
   "execution_count": null,
   "id": "d1630fd1-7d1d-4cc8-a593-5b565ceab5f9",
   "metadata": {},
   "outputs": [],
   "source": [
    "11. pd.options.display.max_columns = None:\n",
    "\n",
    "- This line sets the maximum number of columns displayed in a pandas DataFrame to None.\n",
    "- By doing so, it allows all columns to be shown when printing a DataFrame, regardless of how many there are.\n",
    "- This is helpful for viewing wide DataFrames without truncation.\n",
    "- Adjusting display options improves data inspection and analysis in the console.\n",
    "- It enhances readability, especially when working with datasets that have many features."
   ]
  },
  {
   "cell_type": "code",
   "execution_count": 13,
   "id": "219091c5-4bbb-4715-95eb-a2ca09bb21d7",
   "metadata": {},
   "outputs": [],
   "source": [
    " pd.options.display.float_format='{:.7f}'.format"
   ]
  },
  {
   "cell_type": "code",
   "execution_count": null,
   "id": "460e8c50-2978-432a-8ec8-baed135da203",
   "metadata": {},
   "outputs": [],
   "source": [
    "12. pd.options.display.float_format = '{:.7f}'.format:\n",
    "\n",
    "- This line sets the format for displaying floating-point numbers in pandas DataFrames.\n",
    "- By specifying '{:.7f}'.format, it configures pandas to show numbers with seven decimal places.\n",
    "- This is useful for maintaining consistency and precision in numerical outputs.\n",
    "- It improves readability when analyzing data with many decimal values.\n",
    "- Adjusting the float format can help in presentations or reports where specific precision is required."
   ]
  },
  {
   "cell_type": "code",
   "execution_count": 14,
   "id": "d34a63dc-17c2-4362-9f37-12a889821049",
   "metadata": {},
   "outputs": [],
   "source": [
    "pd.options.display.max_rows=None"
   ]
  },
  {
   "cell_type": "code",
   "execution_count": null,
   "id": "93ea63c0-ea59-4bb0-b21c-af1e3ee16faf",
   "metadata": {},
   "outputs": [],
   "source": [
    "13. pd.options.display.max_rows = None:\n",
    "\n",
    "- This line sets the maximum number of rows displayed in a pandas DataFrame to None.\n",
    "- As a result, all rows will be shown when printing a DataFrame, regardless of the total count.\n",
    "- This is particularly useful for inspecting large datasets without truncation.\n",
    "- It enhances data visibility and allows thorough examination during analysis.\n",
    "- However, displaying too many rows can clutter the output, so use it judiciously."
   ]
  },
  {
   "cell_type": "code",
   "execution_count": 15,
   "id": "bc823f74-8adf-4d63-b796-84c5b8d03875",
   "metadata": {},
   "outputs": [],
   "source": [
    "import h5py"
   ]
  },
  {
   "cell_type": "markdown",
   "id": "1e815fc3-b3c4-4af0-b818-a4128bb2f7ad",
   "metadata": {},
   "source": [
    "14. import h5py:\n",
    "\n",
    "- This line imports the h5py library, which is used for handling HDF5 files in Python.\n",
    "- HDF5 (Hierarchical Data Format version 5) is a file format designed to store large amounts of data.\n",
    "- The h5py library provides an interface to read, write, and manipulate HDF5 files seamlessly.\n",
    "- It's commonly used in data science and machine learning for storing large datasets, including tensors and models.\n",
    "- By using h5py, you can efficiently manage data storage, allowing for quick access and retrieval."
   ]
  },
  {
   "cell_type": "code",
   "execution_count": 16,
   "id": "b0f0887f-6980-43e3-9588-030a4a2f923e",
   "metadata": {},
   "outputs": [],
   "source": [
    " h5f=h5py.File('Autonomous_Vehicles_SVHN_single_grey1.h5')"
   ]
  },
  {
   "cell_type": "code",
   "execution_count": null,
   "id": "a93c1e63-2def-401e-aa6a-194f3d869573",
   "metadata": {},
   "outputs": [],
   "source": []
  },
  {
   "cell_type": "code",
   "execution_count": 17,
   "id": "d53328ae-2714-462e-80af-a9f987a065eb",
   "metadata": {},
   "outputs": [
    {
     "data": {
      "text/plain": [
       "<KeysViewHDF5 ['X_test', 'X_train', 'X_val', 'y_test', 'y_train', 'y_val']>"
      ]
     },
     "execution_count": 17,
     "metadata": {},
     "output_type": "execute_result"
    }
   ],
   "source": [
    "h5f.keys()"
   ]
  },
  {
   "cell_type": "code",
   "execution_count": null,
   "id": "b0b3d879-cfb8-4665-b5a4-1d58b5118f2d",
   "metadata": {},
   "outputs": [],
   "source": []
  },
  {
   "cell_type": "code",
   "execution_count": 18,
   "id": "d6d2fcd8-7e02-4447-a80c-ac35d8f042ee",
   "metadata": {},
   "outputs": [],
   "source": [
    "X_train=h5f['X_train'][:]"
   ]
  },
  {
   "cell_type": "code",
   "execution_count": null,
   "id": "0c80e21e-516f-4e80-88d2-7890c81d779c",
   "metadata": {},
   "outputs": [],
   "source": []
  },
  {
   "cell_type": "code",
   "execution_count": 19,
   "id": "b8a12e40-c828-4198-94a9-49d23b9e38c2",
   "metadata": {},
   "outputs": [],
   "source": [
    "y_train=h5f['y_train'][:]"
   ]
  },
  {
   "cell_type": "code",
   "execution_count": null,
   "id": "a571126e-f9ee-47d3-bbd7-0ba67bcecee0",
   "metadata": {},
   "outputs": [],
   "source": []
  },
  {
   "cell_type": "code",
   "execution_count": 20,
   "id": "9cdf7019-820c-4932-82ef-112d455e4bd8",
   "metadata": {},
   "outputs": [],
   "source": [
    "X_test=h5f['X_test'][:]"
   ]
  },
  {
   "cell_type": "code",
   "execution_count": null,
   "id": "c58e6315-353f-4f5f-9494-9eba81381e35",
   "metadata": {},
   "outputs": [],
   "source": []
  },
  {
   "cell_type": "code",
   "execution_count": 21,
   "id": "2cd12280-92d9-43fd-826b-7e23eaa42d3a",
   "metadata": {},
   "outputs": [],
   "source": [
    "y_test=h5f['y_test'][:]"
   ]
  },
  {
   "cell_type": "code",
   "execution_count": null,
   "id": "7fc14f08-5cb6-44fe-986d-7a660e5fbad5",
   "metadata": {},
   "outputs": [],
   "source": []
  },
  {
   "cell_type": "code",
   "execution_count": 22,
   "id": "ddb26964-32e1-4692-8e6a-9a8856ef7eed",
   "metadata": {},
   "outputs": [
    {
     "data": {
      "text/plain": [
       "(42000, 32, 32)"
      ]
     },
     "execution_count": 22,
     "metadata": {},
     "output_type": "execute_result"
    }
   ],
   "source": [
    "X_train.shape"
   ]
  },
  {
   "cell_type": "code",
   "execution_count": null,
   "id": "506e03f2-c439-40b6-a2c8-256c322e9516",
   "metadata": {},
   "outputs": [],
   "source": []
  },
  {
   "cell_type": "code",
   "execution_count": 23,
   "id": "ab553ab0-9021-4931-97b3-2e3c251d27bd",
   "metadata": {},
   "outputs": [
    {
     "data": {
      "text/plain": [
       "(18000, 32, 32)"
      ]
     },
     "execution_count": 23,
     "metadata": {},
     "output_type": "execute_result"
    }
   ],
   "source": [
    "X_test.shape"
   ]
  },
  {
   "cell_type": "code",
   "execution_count": null,
   "id": "696397e1-a5aa-4c6c-a547-4a2067153b38",
   "metadata": {},
   "outputs": [],
   "source": []
  },
  {
   "cell_type": "code",
   "execution_count": 25,
   "id": "56916cd2-e5c0-4fb5-a4e7-650f7544faab",
   "metadata": {},
   "outputs": [
    {
     "data": {
      "text/plain": [
       "(42000,)"
      ]
     },
     "execution_count": 25,
     "metadata": {},
     "output_type": "execute_result"
    }
   ],
   "source": [
    "y_train.shape"
   ]
  },
  {
   "cell_type": "code",
   "execution_count": null,
   "id": "ffd8d3be-7c81-47a9-819c-4ae8e483940a",
   "metadata": {},
   "outputs": [],
   "source": []
  },
  {
   "cell_type": "code",
   "execution_count": 26,
   "id": "62229219-d9af-4508-adbb-370dd4380977",
   "metadata": {},
   "outputs": [
    {
     "data": {
      "text/plain": [
       "(18000,)"
      ]
     },
     "execution_count": 26,
     "metadata": {},
     "output_type": "execute_result"
    }
   ],
   "source": [
    "y_test.shape"
   ]
  },
  {
   "cell_type": "code",
   "execution_count": null,
   "id": "995b9ae0-3b1e-4063-9217-325ec3292988",
   "metadata": {},
   "outputs": [],
   "source": []
  },
  {
   "cell_type": "code",
   "execution_count": 28,
   "id": "a5a4d6f6-110b-4343-a534-ba4c45b4ae29",
   "metadata": {},
   "outputs": [],
   "source": [
    "def img_lab(n):\n",
    " plt.figure(figsize=(n,1))\n",
    " for i in range(n):\n",
    "  plt.subplot(1,n,i+1)\n",
    "  plt.imshow(X_train[i],cmap='gray')\n",
    "  plt.axis('off')\n",
    "  plt.show()\n",
    "  print('label for each of the above image:%s'%(y_train[0:n]))"
   ]
  },
  {
   "cell_type": "code",
   "execution_count": null,
   "id": "6ee85ea0-20ae-4d6d-9b3e-4401b2c01e5f",
   "metadata": {},
   "outputs": [],
   "source": []
  },
  {
   "cell_type": "code",
   "execution_count": 29,
   "id": "0a29bf02-0e6d-4357-91ed-5f69038db301",
   "metadata": {},
   "outputs": [
    {
     "data": {
      "image/png": "[encoded data removed]",
      "text/plain": [
       "<Figure size 1000x100 with 1 Axes>"
      ]
     },
     "metadata": {},
     "output_type": "display_data"
    },
    {
     "name": "stdout",
     "output_type": "stream",
     "text": [
      "label for each of the above image:[2 6 7 4 4 0 3 0 7 3]\n"
     ]
    },
    {
     "data": {
      "image/png": "[encoded data removed]",
      "text/plain": [
       "<Figure size 640x480 with 1 Axes>"
      ]
     },
     "metadata": {},
     "output_type": "display_data"
    },
    {
     "name": "stdout",
     "output_type": "stream",
     "text": [
      "label for each of the above image:[2 6 7 4 4 0 3 0 7 3]\n"
     ]
    },
    {
     "data": {
      "image/png": "[encoded data removed]",
      "text/plain": [
       "<Figure size 640x480 with 1 Axes>"
      ]
     },
     "metadata": {},
     "output_type": "display_data"
    },
    {
     "name": "stdout",
     "output_type": "stream",
     "text": [
      "label for each of the above image:[2 6 7 4 4 0 3 0 7 3]\n"
     ]
    },
    {
     "data": {
      "image/png": "[encoded data removed]",
      "text/plain": [
       "<Figure size 640x480 with 1 Axes>"
      ]
     },
     "metadata": {},
     "output_type": "display_data"
    },
    {
     "name": "stdout",
     "output_type": "stream",
     "text": [
      "label for each of the above image:[2 6 7 4 4 0 3 0 7 3]\n"
     ]
    },
    {
     "data": {
      "image/png": "[encoded data removed]",
      "text/plain": [
       "<Figure size 640x480 with 1 Axes>"
      ]
     },
     "metadata": {},
     "output_type": "display_data"
    },
    {
     "name": "stdout",
     "output_type": "stream",
     "text": [
      "label for each of the above image:[2 6 7 4 4 0 3 0 7 3]\n"
     ]
    },
    {
     "data": {
      "image/png": "[encoded data removed]",
      "text/plain": [
       "<Figure size 640x480 with 1 Axes>"
      ]
     },
     "metadata": {},
     "output_type": "display_data"
    },
    {
     "name": "stdout",
     "output_type": "stream",
     "text": [
      "label for each of the above image:[2 6 7 4 4 0 3 0 7 3]\n"
     ]
    },
    {
     "data": {
      "image/png": "[encoded data removed]",
      "text/plain": [
       "<Figure size 640x480 with 1 Axes>"
      ]
     },
     "metadata": {},
     "output_type": "display_data"
    },
    {
     "name": "stdout",
     "output_type": "stream",
     "text": [
      "label for each of the above image:[2 6 7 4 4 0 3 0 7 3]\n"
     ]
    },
    {
     "data": {
      "image/png": "[encoded data removed]",
      "text/plain": [
       "<Figure size 640x480 with 1 Axes>"
      ]
     },
     "metadata": {},
     "output_type": "display_data"
    },
    {
     "name": "stdout",
     "output_type": "stream",
     "text": [
      "label for each of the above image:[2 6 7 4 4 0 3 0 7 3]\n"
     ]
    },
    {
     "data": {
      "image/png": "[encoded data removed]",
      "text/plain": [
       "<Figure size 640x480 with 1 Axes>"
      ]
     },
     "metadata": {},
     "output_type": "display_data"
    },
    {
     "name": "stdout",
     "output_type": "stream",
     "text": [
      "label for each of the above image:[2 6 7 4 4 0 3 0 7 3]\n"
     ]
    },
    {
     "data": {
      "image/png": "[encoded data removed]",
      "text/plain": [
       "<Figure size 640x480 with 1 Axes>"
      ]
     },
     "metadata": {},
     "output_type": "display_data"
    },
    {
     "name": "stdout",
     "output_type": "stream",
     "text": [
      "label for each of the above image:[2 6 7 4 4 0 3 0 7 3]\n"
     ]
    }
   ],
   "source": [
    "img_lab(10)"
   ]
  },
  {
   "cell_type": "code",
   "execution_count": null,
   "id": "169e69b0-b3f0-4b16-9a25-997681492728",
   "metadata": {},
   "outputs": [],
   "source": []
  },
  {
   "cell_type": "code",
   "execution_count": 30,
   "id": "1fbdad14-9974-402b-a026-ac39d7048450",
   "metadata": {},
   "outputs": [
    {
     "data": {
      "text/plain": [
       "(42000, 32, 32)"
      ]
     },
     "execution_count": 30,
     "metadata": {},
     "output_type": "execute_result"
    }
   ],
   "source": [
    "X_train.shape"
   ]
  },
  {
   "cell_type": "code",
   "execution_count": null,
   "id": "e9fc022c-3a12-4cc3-bc87-8e08d28586da",
   "metadata": {},
   "outputs": [],
   "source": []
  },
  {
   "cell_type": "code",
   "execution_count": 32,
   "id": "fc0f63cb-e3f1-4adc-93a1-bb7c065b35c6",
   "metadata": {},
   "outputs": [],
   "source": [
    "X_train=X_train.reshape(X_train.shape[0],1024,1)\n",
    "X_test=X_test.reshape(X_test.shape[0],1024,1)"
   ]
  },
  {
   "cell_type": "code",
   "execution_count": null,
   "id": "906f7aae-8bf6-43bd-8255-05642a3e8f95",
   "metadata": {},
   "outputs": [],
   "source": []
  },
  {
   "cell_type": "code",
   "execution_count": 34,
   "id": "817feb60-c2d4-4ece-8d89-de848ba8f615",
   "metadata": {},
   "outputs": [],
   "source": [
    "X_train=X_train/255.0\n",
    "X_test=X_test/255.0"
   ]
  },
  {
   "cell_type": "code",
   "execution_count": null,
   "id": "b238540f-23f4-4073-936c-1cd83b90d91d",
   "metadata": {},
   "outputs": [],
   "source": []
  },
  {
   "cell_type": "code",
   "execution_count": 35,
   "id": "9b632882-35e8-48aa-8553-e02c7b1780e5",
   "metadata": {},
   "outputs": [
    {
     "name": "stdout",
     "output_type": "stream",
     "text": [
      "Resized Training set (42000, 1024, 1) (42000,)\n",
      "Resized Test set (18000, 1024, 1) (18000,)\n"
     ]
    }
   ],
   "source": [
    "print('Resized Training set',X_train.shape,y_train.shape)\n",
    "print('Resized Test set',X_test.shape,y_test.shape)"
   ]
  },
  {
   "cell_type": "code",
   "execution_count": null,
   "id": "183f6861-811f-4312-819f-5f13905a831e",
   "metadata": {},
   "outputs": [],
   "source": []
  },
  {
   "cell_type": "code",
   "execution_count": null,
   "id": "6c694486-c729-4fad-8a46-c2098b069f06",
   "metadata": {},
   "outputs": [],
   "source": []
  },
  {
   "cell_type": "code",
   "execution_count": 37,
   "id": "1e7b7d7c-e06e-4c6f-ada1-df72c78b2a1d",
   "metadata": {},
   "outputs": [
    {
     "name": "stdout",
     "output_type": "stream",
     "text": [
      "THe number of classes in this dataset are: 10\n"
     ]
    }
   ],
   "source": [
    "from tensorflow.keras.utils import to_categorical\n",
    " #one hot encode outputs\n",
    "y_train=to_categorical(y_train)\n",
    "y_test=to_categorical(y_test)\n",
    " #no. of classes\n",
    "num_classes=y_test.shape[1]\n",
    "print('THe number of classes in this dataset are:',num_classes)"
   ]
  },
  {
   "cell_type": "code",
   "execution_count": 39,
   "id": "cb94f5d7-0872-47da-b7c1-009daaa8e215",
   "metadata": {},
   "outputs": [],
   "source": [
    "from tensorflow.keras.utils import to_categorical\n",
    "from tensorflow.keras.models import Sequential\n",
    "from tensorflow.keras.layers import Conv2D, MaxPooling2D, Flatten, Dense, Dropout\n",
    "from tensorflow.keras.optimizers import Adam"
   ]
  },
  {
   "cell_type": "code",
   "execution_count": null,
   "id": "af656b4c-6230-43d4-967d-64c4aa65f154",
   "metadata": {},
   "outputs": [],
   "source": []
  }
 ],
 "metadata": {
  "kernelspec": {
   "display_name": "Python 3 (ipykernel)",
   "language": "python",
   "name": "python3"
  },
  "language_info": {
   "codemirror_mode": {
    "name": "ipython",
    "version": 3
   },
   "file_extension": ".py",
   "mimetype": "text/x-python",
   "name": "python",
   "nbconvert_exporter": "python",
   "pygments_lexer": "ipython3",
   "version": "3.10.11"
  }
 },
 "nbformat": 4,
 "nbformat_minor": 5
}
